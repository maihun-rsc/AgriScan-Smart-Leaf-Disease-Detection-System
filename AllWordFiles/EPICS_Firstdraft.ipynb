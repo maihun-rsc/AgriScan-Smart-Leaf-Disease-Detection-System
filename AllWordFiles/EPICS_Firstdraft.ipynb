{
 "cells": [
  {
   "cell_type": "markdown",
   "id": "a776151a",
   "metadata": {},
   "source": [
    " # Project AgriScan: Smart Leaf Disease Detection System"
   ]
  },
  {
   "cell_type": "markdown",
   "id": "c3f3eb46",
   "metadata": {},
   "source": [
    "**Team Members:**\n",
    "- Himanshu Gaur (23BCY10127)\n",
    "- Abhinav Mehra (23BCY10015)\n",
    "- Tanya Bharti (23BCE11555)\n",
    "- Rananjay Singh Chauhan (23BAI10080)\n",
    "- Supreety Jha (23BCY10150)"
   ]
  },
  {
   "cell_type": "markdown",
   "id": "c4a18f98",
   "metadata": {},
   "source": [
    "##  Problem Statement\n",
    "In the agricultural sector, early detection of plant diseases is crucial to avoid severe crop loss. Most farmers, particularly in rural communities, have no access to specialized advice or technical expertise to detect leaf diseases in advance. This not only delays treatment but also allows diseases to spread across entire farms or communities, leading to large-scale crop failure and economic hardship. Lacking in timely interventions, farmers resort to ineffective or expensive solutions that further influence their livelihood. Our solution seeks to bridge this gap by offering an accessible, bilingual, ML-driven app to diagnose diseases early and provide actionable insights and solutions for prevention and cure."
   ]
  },
  {
   "cell_type": "markdown",
   "id": "43fb8dd5",
   "metadata": {},
   "source": [
    "##  Proposed Solution\n",
    "We propose **AgriScan**, a machine learning-based mobile application designed to help farmers identify leaf diseases by simply uploading an image of the affected leaf. The app will analyze the image and provide:\n",
    "- Name and type of disease (if detected)\n",
    "- Precautionary measures\n",
    "- Preventive and curative suggestions\n",
    "- Additional agricultural tips\n",
    "\n",
    "The app will feature a **bilingual UI/UX** (English + regional language) for accessibility."
   ]
  },
  {
   "cell_type": "markdown",
   "id": "0578e5e8",
   "metadata": {},
   "source": [
    "##  Objectives\n",
    "- Build a robust ML model trained on leaf disease datasets.\n",
    "- Design a bilingual, intuitive, and accessible mobile UI.\n",
    "- Provide farmers with meaningful insights and remedies.\n",
    "- Improve agricultural awareness and reduce dependency on manual inspection."
   ]
  },
  {
   "cell_type": "markdown",
   "id": "a280305a",
   "metadata": {},
   "source": [
    "##  Methodology\n",
    "1. **Data Collection**: Curate a dataset of various leaf images (healthy and diseased).Using Kaggle.\n",
    "2. **Model Development**: Train a CNN (e.g., ResNet or MobileNet) for disease classification.\n",
    "3. **App Integration**: Integrate the model into a mobile application using frameworks like TensorFlow Lite.\n",
    "4. **UI/UX Design**: Design bilingual interface using Flutter or React Native.\n",
    "5. **Testing & Feedback**: Field-test with real users for feedback and improvement."
   ]
  },
  {
   "cell_type": "markdown",
   "id": "9b8076db",
   "metadata": {},
   "source": [
    "##  Expected Outcomes\n",
    "- Farmers can diagnose leaf diseases instantly using their mobile phones.\n",
    "- Better awareness of agricultural health practices.\n",
    "- Reduction in crop loss due to early and accurate diagnosis.\n",
    "- A scalable model that can be expanded to other crops and languages."
   ]
  },
  {
   "cell_type": "markdown",
   "id": "11cca2a9",
   "metadata": {},
   "source": [
    "##  Tools & Technologies\n",
    "- Python, TensorFlow, OpenCV\n",
    "- Mobile App: Flutter / React Native\n",
    "- ML Model: CNN (ResNet / MobileNet)\n",
    "- UI/UX: Figma / Adobe XD\n",
    "- Deployment: Firebase / Local Hosting"
   ]
  },
  {
   "cell_type": "markdown",
   "id": "4ed67f63",
   "metadata": {},
   "source": [
    "##  Project Timeline (Tentative)\n",
    "| Phase | Task | Duration |\n",
    "|-------|------|----------|\n",
    "| 1     | Data Collection & Cleaning ,Model Training & Evaluation | 4 weeks | \n",
    "| 2     | App Development & Integration | 4 weeks |\n",
    "| 3     | Testing & Feedback ,Final Deployment | 2 weeks |\n"
   ]
  },
  {
   "cell_type": "markdown",
   "id": "ae00c22c",
   "metadata": {},
   "source": [
    "##  Conclusion\n",
    "AgriScan aims to empower farmers by using modern technology for a traditional challenge. Our bilingual mobile solution ensures accessibility, and the ML-powered diagnosis helps in prompt and effective action."
   ]
  }
 ],
 "metadata": {
  "kernelspec": {
   "display_name": "Python 3 (ipykernel)",
   "language": "python",
   "name": "python3"
  },
  "language_info": {
   "codemirror_mode": {
    "name": "ipython",
    "version": 3
   },
   "file_extension": ".py",
   "mimetype": "text/x-python",
   "name": "python",
   "nbconvert_exporter": "python",
   "pygments_lexer": "ipython3",
   "version": "3.11.7"
  }
 },
 "nbformat": 4,
 "nbformat_minor": 5
}
